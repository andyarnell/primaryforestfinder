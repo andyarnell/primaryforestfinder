{
 "cells": [
  {
   "cell_type": "code",
   "execution_count": 1,
   "id": "f54d7da2",
   "metadata": {},
   "outputs": [],
   "source": [
    "import pyrosm"
   ]
  },
  {
   "cell_type": "code",
   "execution_count": null,
   "id": "06bff37c",
   "metadata": {},
   "outputs": [],
   "source": [
    "from pyrosm import OSM\n",
    "\n",
    "# Define your bounding box: (min_lon, min_lat, max_lon, max_lat)\n",
    "bbox = [-58.53, -34.70, -58.35, -34.55]\n",
    "\n",
    "# Initialize OSM with the bounding box\n",
    "# fp = r\"C:\\Users\\Arnell\\Downloads\\argentina-latest.osm.pbf\" \n",
    "\n",
    "osm = OSM(fp)#, bounding_box=bbox)\n"
   ]
  },
  {
   "cell_type": "code",
   "execution_count": null,
   "id": "1a53b76e",
   "metadata": {},
   "outputs": [
    {
     "name": "stderr",
     "output_type": "stream",
     "text": [
      "Exception ignored in: <bound method IPythonKernel._clean_thread_parent_frames of <ipykernel.ipkernel.IPythonKernel object at 0x0000025BFB891990>>\n",
      "Traceback (most recent call last):\n",
      "  File \"c:\\Users\\Arnell\\AppData\\Local\\miniconda3\\envs\\conda_env\\Lib\\site-packages\\ipykernel\\ipkernel.py\", line 790, in _clean_thread_parent_frames\n",
      "    active_threads = {thread.ident for thread in threading.enumerate()}\n",
      "                                                 ^^^^^^^^^^^^^^^^^^^^^\n",
      "  File \"c:\\Users\\Arnell\\AppData\\Local\\miniconda3\\envs\\conda_env\\Lib\\threading.py\", line 1501, in enumerate\n",
      "    def enumerate():\n",
      "    \n",
      "KeyboardInterrupt: \n"
     ]
    }
   ],
   "source": [
    "# Extract drivable roads (no need for boundary parameter here)\n",
    "drive_net_subset = OSM(fp).get_network(network_type=\"driving\")\n",
    "\n",
    "# Save the subset\n",
    "drive_net_subset.to_file(\"drive_net.gpkg\", driver=\"GPKG\")"
   ]
  },
  {
   "cell_type": "code",
   "execution_count": null,
   "id": "2ddbc3f8",
   "metadata": {},
   "outputs": [
    {
     "name": "stderr",
     "output_type": "stream",
     "text": [
      "Exception ignored in: <bound method IPythonKernel._clean_thread_parent_frames of <ipykernel.ipkernel.IPythonKernel object at 0x0000018221F8DF90>>\n",
      "Traceback (most recent call last):\n",
      "  File \"c:\\Users\\Arnell\\AppData\\Local\\miniconda3\\envs\\conda_env\\Lib\\site-packages\\ipykernel\\ipkernel.py\", line 790, in _clean_thread_parent_frames\n",
      "    active_threads = {thread.ident for thread in threading.enumerate()}\n",
      "                                                 ^^^^^^^^^^^^^^^^^^^^^\n",
      "  File \"c:\\Users\\Arnell\\AppData\\Local\\miniconda3\\envs\\conda_env\\Lib\\threading.py\", line 1501, in enumerate\n",
      "    def enumerate():\n",
      "    \n",
      "KeyboardInterrupt: \n"
     ]
    }
   ],
   "source": [
    "# Extract specific waterway types\n",
    "waterway_filter = {'waterway': True}  # This gets all waterway types\n",
    "waterways_specific = OSM(fp).get_pois(custom_filter=waterway_filter)\n",
    "\n",
    "# You can see what types were extracted\n",
    "print(waterways_specific['waterway'].unique())\n",
    "\n",
    "# Save the specific waterways\n",
    "waterways_specific.to_file(\"waterways_specific_ba.gpkg\", driver=\"GPKG\")"
   ]
  },
  {
   "cell_type": "code",
   "execution_count": null,
   "id": "94cc3c74",
   "metadata": {},
   "outputs": [
    {
     "name": "stdout",
     "output_type": "stream",
     "text": [
      "(network_type='walking', extra_attributes=None, nodes=False, timestamp=None)\n"
     ]
    }
   ],
   "source": [
    "# import inspect\n",
    "# print(inspect.signature(osm.get_network))"
   ]
  },
  {
   "cell_type": "code",
   "execution_count": null,
   "id": "d86cb92d",
   "metadata": {},
   "outputs": [
    {
     "ename": "TypeError",
     "evalue": "OSM.get_network() got an unexpected keyword argument 'boundary'",
     "output_type": "error",
     "traceback": [
      "\u001b[31m---------------------------------------------------------------------------\u001b[39m\n",
      "\u001b[31mTypeError\u001b[39m                                 Traceback (most recent call last)\n",
      "\u001b[36mCell\u001b[39m\u001b[36m \u001b[39m\u001b[32mIn[7]\u001b[39m\u001b[32m, line 12\u001b[39m\n",
      "\u001b[32m      9\u001b[39m bbox = (-\u001b[32m58.53\u001b[39m, -\u001b[32m34.70\u001b[39m, -\u001b[32m58.35\u001b[39m, -\u001b[32m34.55\u001b[39m)\n",
      "\u001b[32m     11\u001b[39m \u001b[38;5;66;03m# Extract drivable roads within the bounding box\u001b[39;00m\n",
      "\u001b[32m---> \u001b[39m\u001b[32m12\u001b[39m drive_net_subset = \u001b[43mosm\u001b[49m\u001b[43m.\u001b[49m\u001b[43mget_network\u001b[49m\u001b[43m(\u001b[49m\u001b[43mnetwork_type\u001b[49m\u001b[43m=\u001b[49m\u001b[33;43m\"\u001b[39;49m\u001b[33;43mdriving\u001b[39;49m\u001b[33;43m\"\u001b[39;49m\u001b[43m,\u001b[49m\u001b[43m \u001b[49m\u001b[43mboundary\u001b[49m\u001b[43m=\u001b[49m\u001b[43mbbox\u001b[49m\u001b[43m)\u001b[49m\n",
      "\u001b[32m     14\u001b[39m \u001b[38;5;66;03m# Save the subset\u001b[39;00m\n",
      "\u001b[32m     15\u001b[39m drive_net_subset.to_file(\u001b[33m\"\u001b[39m\u001b[33mdrive_net_ba.gpkg\u001b[39m\u001b[33m\"\u001b[39m, driver=\u001b[33m\"\u001b[39m\u001b[33mGPKG\u001b[39m\u001b[33m\"\u001b[39m)\n",
      "\n",
      "\u001b[31mTypeError\u001b[39m: OSM.get_network() got an unexpected keyword argument 'boundary'"
     ]
    }
   ],
   "source": [
    "# from pyrosm import OSM\n",
    "\n",
    "# # Path to your local OSM PBF file\n",
    "# fp = r\"C:\\Users\\Arnell\\Downloads\\argentina-latest.osm.pbf\"\n",
    "# osm = OSM(fp)\n",
    "\n",
    "# # Define your bounding box: (min_lon, min_lat, max_lon, max_lat)\n",
    "# # Example: Buenos Aires area\n",
    "# bbox = (-58.53, -34.70, -58.35, -34.55)\n",
    "\n",
    "# # Extract drivable roads within the bounding box\n",
    "# drive_net_subset = osm.get_network(network_type=\"driving\", boundary=bbox)\n",
    "\n",
    "# # Save the subset\n",
    "# drive_net_subset.to_file(\"drive_net_ba.gpkg\", driver=\"GPKG\")"
   ]
  },
  {
   "cell_type": "code",
   "execution_count": null,
   "id": "e2c55a73",
   "metadata": {},
   "outputs": [
    {
     "name": "stderr",
     "output_type": "stream",
     "text": [
      "Exception ignored in: <bound method IPythonKernel._clean_thread_parent_frames of <ipykernel.ipkernel.IPythonKernel object at 0x000001BEB552D8D0>>\n",
      "Traceback (most recent call last):\n",
      "  File \"c:\\Users\\Arnell\\AppData\\Local\\miniconda3\\envs\\conda_env\\Lib\\site-packages\\ipykernel\\ipkernel.py\", line 775, in _clean_thread_parent_frames\n",
      "    def _clean_thread_parent_frames(\n",
      "\n",
      "KeyboardInterrupt: \n"
     ]
    }
   ],
   "source": [
    "# from pyrosm import OSM\n",
    "# from pyrosm import get_data\n",
    "\n",
    "# # Pyrosm comes with a couple of test datasets \n",
    "# # that can be used straight away without\n",
    "# # downloading anything\n",
    "# # fp = get_data(\"test_pbf\")\n",
    "# fp = r\"C:\\Users\\Arnell\\Downloads\\argentina-latest.osm.pbf\"\n",
    "# # Initialize the OSM parser object\n",
    "# osm = OSM(fp)\n",
    "\n",
    "# # Read all drivable roads\n",
    "# # =======================\n",
    "# drive_net = osm.get_network(network_type=\"driving\")\n",
    "# # Preview the result\n",
    "# # or for spatial data:\n",
    "# drive_net.to_file(\"drive_net.gpkg\", driver=\"GPKG\")"
   ]
  },
  {
   "cell_type": "code",
   "execution_count": null,
   "id": "4249be30",
   "metadata": {},
   "outputs": [],
   "source": [
    "print(drive_net.head())"
   ]
  },
  {
   "cell_type": "code",
   "execution_count": null,
   "id": "7efce686",
   "metadata": {},
   "outputs": [],
   "source": [
    "drive_net.to_file(\"drive_net.geojson\", driver=\"GeoJSON\")"
   ]
  },
  {
   "cell_type": "code",
   "execution_count": 4,
   "id": "09842422",
   "metadata": {},
   "outputs": [
    {
     "name": "stdout",
     "output_type": "stream",
     "text": [
      "Help on function __init__ in module pyrosm.pyrosm:\n",
      "\n",
      "__init__(self, filepath, bounding_box=None)\n",
      "    Initialize self.  See help(type(self)) for accurate signature.\n",
      "\n"
     ]
    }
   ],
   "source": [
    "help(pyrosm.OSM.__init__)"
   ]
  },
  {
   "cell_type": "code",
   "execution_count": null,
   "id": "7abe5d39",
   "metadata": {},
   "outputs": [],
   "source": []
  }
 ],
 "metadata": {
  "kernelspec": {
   "display_name": "conda_env",
   "language": "python",
   "name": "python3"
  },
  "language_info": {
   "codemirror_mode": {
    "name": "ipython",
    "version": 3
   },
   "file_extension": ".py",
   "mimetype": "text/x-python",
   "name": "python",
   "nbconvert_exporter": "python",
   "pygments_lexer": "ipython3",
   "version": "3.11.11"
  }
 },
 "nbformat": 4,
 "nbformat_minor": 5
}
